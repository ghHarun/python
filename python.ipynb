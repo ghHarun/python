{
 "cells": [
  {
   "cell_type": "code",
   "execution_count": 2,
   "metadata": {},
   "outputs": [
    {
     "name": "stdout",
     "output_type": "stream",
     "text": [
      "28\n"
     ]
    }
   ],
   "source": [
    "# Input Phase\n",
    "num1=int(input('Enter 1st number: '))\n",
    "num2=int(input('Enter 2nd number: '))\n",
    "\n",
    "# Processing Phase\n",
    "result=num1 + num2\n",
    "\n",
    "# Output Phase\n",
    "print(result)"
   ]
  },
  {
   "cell_type": "code",
   "execution_count": null,
   "metadata": {},
   "outputs": [],
   "source": [
    "# We could not able to start variable name with number"
   ]
  },
  {
   "cell_type": "code",
   "execution_count": 5,
   "metadata": {},
   "outputs": [
    {
     "data": {
      "text/plain": [
       "float"
      ]
     },
     "execution_count": 5,
     "metadata": {},
     "output_type": "execute_result"
    }
   ],
   "source": [
    "num = 3\n",
    "name = 'John Smith'\n",
    "weight = 55.66\n",
    "type(num)\n",
    "type(name)\n",
    "type(weight)"
   ]
  },
  {
   "cell_type": "code",
   "execution_count": 6,
   "metadata": {},
   "outputs": [
    {
     "name": "stdout",
     "output_type": "stream",
     "text": [
      "able by \"Jhon\"\n"
     ]
    }
   ],
   "source": [
    "# String methods\n",
    "s='able by \"Jhon\"'\n",
    "print(s)"
   ]
  },
  {
   "cell_type": "code",
   "execution_count": 26,
   "metadata": {},
   "outputs": [
    {
     "data": {
      "text/plain": [
       "True"
      ]
     },
     "execution_count": 26,
     "metadata": {},
     "output_type": "execute_result"
    }
   ],
   "source": [
    "s.capitalize()\n",
    "s.lower()\n",
    "s.upper()\n",
    "s.split()\n",
    "s.split('by')\n",
    "s.replace(\"by\",\"BY\")\n",
    "s.replace('n',\"@\",1)\n",
    "s.swapcase()        # Convert lower into capital and capital into lower\n",
    "s.title()           # Convert 1st character of eache word capital\n",
    "s.count('n')        # Count 'n' in the string\n",
    "s.startswith('Ab')  # Check whether the string start with 'Ab' if true, return 'True' or False\n",
    "s.isupper()         # Whether all characters are uper\n",
    "s.isnumeric()       # Whether all are numeric\n",
    "s.upper().isupper() # We may convert the string into upper and then check whether it is true "
   ]
  },
  {
   "cell_type": "code",
   "execution_count": 35,
   "metadata": {},
   "outputs": [
    {
     "data": {
      "text/plain": [
       "(bool, True)"
      ]
     },
     "execution_count": 35,
     "metadata": {},
     "output_type": "execute_result"
    }
   ],
   "source": [
    "# Type Conversion\n",
    "n = '34'          # Variable 'n' and we preserve '34' as string\n",
    "n = int(n)        # Convert '34' as int\n",
    "n = float(n)      # Convert '34' as float\n",
    "n = complex(n)    # Convert '34' as complex\n",
    "n = str(n)        # Convert integer 34 as string\n",
    "n = bool(\"\")      # Convert bool and if null value the return 'False'\n",
    "type(n),n"
   ]
  },
  {
   "cell_type": "code",
   "execution_count": null,
   "metadata": {},
   "outputs": [],
   "source": [
    "# Creating Storage / Variable\n"
   ]
  },
  {
   "cell_type": "code",
   "execution_count": 38,
   "metadata": {},
   "outputs": [
    {
     "data": {
      "text/plain": [
       "'A'"
      ]
     },
     "execution_count": 38,
     "metadata": {},
     "output_type": "execute_result"
    }
   ],
   "source": [
    "# Binary Representation\n",
    "c='A'\n",
    "c='a'\n",
    "ord(c)\n",
    "\n",
    "# Assci to Character\n",
    "n=65\n",
    "chr(n)"
   ]
  },
  {
   "cell_type": "code",
   "execution_count": null,
   "metadata": {},
   "outputs": [],
   "source": [
    "# String Formatting\n",
    "name = 'John'\n",
    "age = 25\n",
    "weight = 55.6\n",
    "print(\"{0} your age {1}, your weight is {2}\".format(name,age,weight))   # 1st method '{}' it is call place holder\n",
    "\n",
    "print(\"%s your age %d, your weight is %f\" %(name,age,weight))   # 2nd method %' it is call place holder\n",
    "print(\"%s your age %d, your weight is %.2f\" %(name,age,weight))   # 2nd method %' it is call place holder\n",
    "\n",
    "print(f\"{name} your age {age}, your weight is {weight}\")        # This format is much more interesting and easy\n",
    "print(f\"{name} your age {age+4}, your weight is {weight}\")      # We can use operation here as well "
   ]
  },
  {
   "cell_type": "code",
   "execution_count": 47,
   "metadata": {},
   "outputs": [
    {
     "name": "stdout",
     "output_type": "stream",
     "text": [
      "John\n"
     ]
    }
   ],
   "source": [
    "# We can get input from the user as well\n",
    "name=input(f\"Your name is {name}\")\n",
    "print(name)"
   ]
  },
  {
   "cell_type": "code",
   "execution_count": 17,
   "metadata": {},
   "outputs": [
    {
     "data": {
      "text/plain": [
       "9"
      ]
     },
     "execution_count": 17,
     "metadata": {},
     "output_type": "execute_result"
    }
   ],
   "source": [
    "# Operators\n",
    "# Aritmatice Operator\n",
    "2+3     # Addition\n",
    "3-2     # Deduction\n",
    "3*2     # Multiplacation \n",
    "3/2     # Floating point Division\n",
    "3//2    # Intiger point Division\n",
    "3%2     # Remainder\n",
    "3 ** 2  # Power calculation\n"
   ]
  },
  {
   "cell_type": "code",
   "execution_count": 5,
   "metadata": {},
   "outputs": [
    {
     "data": {
      "text/plain": [
       "False"
      ]
     },
     "execution_count": 5,
     "metadata": {},
     "output_type": "execute_result"
    }
   ],
   "source": [
    "# Comparison Operator\n",
    "2 > 3   # 2 > 3 is False\n",
    "2 < 3   # 2 < 3 is True\n",
    "2 == 3  # 2 == 3 is False\n",
    "2 != 3  # 2 !> 3 is True\n",
    "2 >= 2  # 2 >= 3 is True\n",
    "3 <= 2  # 2 <= 2 is False"
   ]
  },
  {
   "cell_type": "code",
   "execution_count": 9,
   "metadata": {},
   "outputs": [
    {
     "data": {
      "text/plain": [
       "True"
      ]
     },
     "execution_count": 9,
     "metadata": {},
     "output_type": "execute_result"
    }
   ],
   "source": [
    "# Logical Operators\n",
    "True and True   # True and True returen True\n",
    "True and False  # True and False return False\n",
    "False and True  # False and True return False\n",
    "False and False # False and False return False\n",
    "\n",
    "True or True    # True or True return True\n",
    "True or False   # True or False return True\n",
    "False or True   # False or True returen True\n",
    "\n",
    "not True        # not True return False\n",
    "not False       # not False return True\n",
    "\n",
    "## for Credit card\n",
    "age=18\n",
    "salary = 40000\n",
    "\n",
    "(age>=18) and (salary >= 40000)"
   ]
  },
  {
   "cell_type": "code",
   "execution_count": null,
   "metadata": {},
   "outputs": [],
   "source": [
    "## Special Opertor\n",
    "\"h\" in \"happy\"  # if 'h' is found in 'happy' then return True\n",
    "\"u\" in \"happy\"  # if 'u' is not found in 'happy' then return False\n",
    "\n",
    "# is Operator\n",
    "2 == 2      # 2 is equelto 2 return True\n",
    "2 == 2.00   # 2 is equelto 2.00 return True, though it's type is different\n",
    "print(2 is 2.00)    # 2 is 2.00 return False, as the type is different\n",
    "print (2 is 2)      # 2 is 2 return True, as type is also same"
   ]
  },
  {
   "cell_type": "code",
   "execution_count": 2,
   "metadata": {},
   "outputs": [
    {
     "data": {
      "text/plain": [
       "4"
      ]
     },
     "execution_count": 2,
     "metadata": {},
     "output_type": "execute_result"
    }
   ],
   "source": [
    "## Assignment Operator / Day - 1, Time - \n",
    "n = 2       # We assign the value of n is 2\n",
    "#n = n + 2   # Now we add 2 with n, then then n will return 4\n",
    "#n += 2      # It also return the value 4 as above, which is the short form of n = n + 2\n",
    "#n -= 2      # When the n value is 2 then deduce 2 and return 0\n",
    "n *= 2      # Return 4\n",
    "n"
   ]
  },
  {
   "cell_type": "code",
   "execution_count": 4,
   "metadata": {},
   "outputs": [
    {
     "data": {
      "text/plain": [
       "['False',\n",
       " 'None',\n",
       " 'True',\n",
       " 'and',\n",
       " 'as',\n",
       " 'assert',\n",
       " 'async',\n",
       " 'await',\n",
       " 'break',\n",
       " 'class',\n",
       " 'continue',\n",
       " 'def',\n",
       " 'del',\n",
       " 'elif',\n",
       " 'else',\n",
       " 'except',\n",
       " 'finally',\n",
       " 'for',\n",
       " 'from',\n",
       " 'global',\n",
       " 'if',\n",
       " 'import',\n",
       " 'in',\n",
       " 'is',\n",
       " 'lambda',\n",
       " 'nonlocal',\n",
       " 'not',\n",
       " 'or',\n",
       " 'pass',\n",
       " 'raise',\n",
       " 'return',\n",
       " 'try',\n",
       " 'while',\n",
       " 'with',\n",
       " 'yield']"
      ]
     },
     "execution_count": 4,
     "metadata": {},
     "output_type": "execute_result"
    }
   ],
   "source": [
    "## To show the list of Keyword, Day-1, Time- 1:26.48\n",
    "import keyword\n",
    "keyword.kwlist  # Every keyword has it own function among them some of the function we already have used"
   ]
  },
  {
   "cell_type": "code",
   "execution_count": 39,
   "metadata": {},
   "outputs": [
    {
     "data": {
      "text/plain": [
       "[5, 1, 33, 45, 76, 7, 8, 9, 'CSE', True, 5.6]"
      ]
     },
     "execution_count": 39,
     "metadata": {},
     "output_type": "execute_result"
    }
   ],
   "source": [
    "## Advance Data Type,   Day-2, Time- 00.01\n",
    "\n",
    "# There are four collection data types in the Python programming language:\n",
    "\n",
    "# List is a collection which is ordered and changeable. Allows duplicate members.\n",
    "# Tuple is a collection which is ordered and unchangeable. Allows duplicate members.\n",
    "# Set is a collection which is unordered, unchangeable*, and unindexed. No duplicate members.\n",
    "# Dictionary is a collection which is ordered** and changeable. No duplicate members.\n",
    "\n",
    "# *Set items are unchangeable, but you can remove and/or add items whenever you like.\n",
    "\n",
    "\n",
    "## List\n",
    "studs = [5,1,3,4,5,76,7,8,9,'CSE', True, 5.6]   # List variable, where we can storoe the data efficiently\n",
    "studs           # We can print it directly or use print(studs) as well\n",
    "\n",
    "# We may access this list data, suppose we want to use 1 from the list, then how?\n",
    "# we know that list values have index number which is started from 0, then\n",
    "# if we want to use 5, that means, we would going to use index 0\n",
    "studs[0] \n",
    "# if we want to get 76 then what to do... we need to know the index no. of 76\n",
    "# that is 5, so\n",
    "studs[5]    # Then return 76. If we want to get the last value like 5.6 then\n",
    "            # we need to know the index no. of 5.6. But is difficult when the list\n",
    "            # will be large, so, a shortcut method is there like\n",
    "studs[-1]\n",
    "studs[-2]   # 2nd last value will be returned\n",
    "studs[2:5]  # If we want to get the index 2 to 4 then we use this, we use index 5\n",
    "            # due to the list ignore last index number\n",
    "studs[:6]   # If we get from starting to index 5 then we will use it\n",
    "studs[:]    # If we get all values in the list then we just mention :\n",
    "studs[3:]   # If we want to get the list from index 3 to last index\n",
    "studs[::2]  # if we like to get values skipping 2 index\n",
    "studs[2::2] # if we like to get the list from index 2 and with 1 inverval\n",
    "studs[2:10:2] # if means that start from index 2 to index 10 with 1 inderval\n",
    "studs[::-1]   # if we atart from last to fast, then we will use this\n",
    "\n",
    "## On String\n",
    "\"Python\"[:]     # return 'Python\n",
    "\"Python\"[::-1]  # return 'nohtyP'\n",
    "\n",
    "## Updating\n",
    "studs[3] = 44   # Update 4 which is index 3 with 44\n",
    "studs[2:5] = 33,45,111  # Update index 2 to 5 with 33,45,111\n",
    "studs\n",
    "#It is not not possible to update string value using index\n",
    "\n",
    "# Function\n",
    "studs.append(6.6)   # 6.6 will be append at the end of the list\n",
    "studs.insert(0,99)  # Add value like 99 on 0 index as we mention index no. 0\n",
    "studs\n",
    "# pop() Function delete the last value from the list\n",
    "studs.pop()\n",
    "studs.pop(0) # If we want to delete value against particular index, then we should use this\n",
    "studs.remove(111)   # Remove function work on value. \n",
    "studs"
   ]
  },
  {
   "cell_type": "code",
   "execution_count": 45,
   "metadata": {},
   "outputs": [
    {
     "data": {
      "text/plain": [
       "7"
      ]
     },
     "execution_count": 45,
     "metadata": {},
     "output_type": "execute_result"
    }
   ],
   "source": [
    "## tuple,  Day-1, Time- 38:50\n",
    "t = (5, 1, 33, 45, 76, 7, 8, 9, 'CSE', True, 5.6) # Denote tuple by ()\n",
    "# What difference between tuple and list? we can use index, and return values\n",
    "# but we can not append, remove values from the tuple. We can only use count, index\n",
    "# and access the values from the tuple\n",
    "# But we want to delete the tuple, that can be possible\n",
    "t\n",
    "t[5]"
   ]
  },
  {
   "cell_type": "code",
   "execution_count": null,
   "metadata": {},
   "outputs": [],
   "source": [
    "## Set, Da-1,  Time- 41:0\n",
    "s1 = {10,2,3,3,4,5,7,8}    # Set exclude duplicate value and always make\n",
    "                        # the valaues in ascending order. we can not use index \n",
    "s2 = {2,3,4,11,12}      # We can use another set\n",
    "s1.difference(s2)       # Return only the those values which is in s1\n",
    "                        # but not in s2\n",
    "s2.difference(s1)       # Return 11, 12 as these values are in s2 only\n",
    "s1.intersection(s2)     # Return only common value between s1 and s2\n",
    "s1.union(s2)            # marge unique values between two sets\n",
    "s1.union(s2).union({13,14,5}) # We can union more then 2 sets as well\n",
    "\n",
    "## Set\n",
    " # Sets are basically an organized collection of objects. Sets can be \n",
    " # either represented in roster form or set builder form. The objects \n",
    " # that a set consists of are known as the elements of the set. These \n",
    " # elements can be grouped to form a subset of the original set. \n",
    " # For e.g. if ‘a’ is an element of set A, this is represented as:\n",
    "\n",
    " #a ∈ A , where ∈ means “belongs to”\n",
    "\n",
    " # On the other hand, if ‘b’ is not an element of A, we represent it as:\n",
    "\n",
    " # b ∉ A, where ∉ means “doesn’t belong to”\n",
    "\n",
    "## Sub Set\n",
    "## In mathematics, set A is a subset of a set B if all elements of A are \n",
    " # also elements of B; B is then a superset of A. It is possible for A \n",
    " # and B to be equal; if they are unequal, then A is a proper subset of B. \n",
    " # The relationship of one set being a subset of another is called inclusion \n",
    " # (or sometimes containment).\n",
    "s3 = {10,2,3,3,4,5,7,8, 88,99}\n",
    "s3\n",
    "s1.issubset(s3)     # s1 is subset of s3 return true. It means that s1 ∈ s3 (s1 belongs to s3)\n",
    "s1.issuperset(s3)   # s1 is not superset of s3, return False. It means that s1 ∈ s3 (s1 belongs to s3)\n",
    "s1.pop()            # Remove from the front. But remove value from last in list\n",
    "s1.remove(8)        # Remove the particular value\n",
    "s1.add(88)          # Add value at the last\n",
    "s1.update(1,2,99)  # Update set wtih another set"
   ]
  },
  {
   "cell_type": "code",
   "execution_count": 10,
   "metadata": {},
   "outputs": [
    {
     "data": {
      "text/plain": [
       "dict_keys([1, 'Branch', 'Age', 'Marks', 'subs'])"
      ]
     },
     "execution_count": 10,
     "metadata": {},
     "output_type": "execute_result"
    }
   ],
   "source": [
    "## Dictionary, Day- 2, Time: 55:50\n",
    "sd = {1:\"John\",\"Branch\":\"CSE\",\"Age\":24,\"Marks\":86}\n",
    "    # |   |____ value\n",
    "    # |________ key\n",
    "sd[\"subs\"] = ['Math','English'] # Add a column with two values\n",
    "sd.get('Age')\n",
    "sd.items()\n",
    "sd.values()\n",
    "sd.keys()\n",
    "sd.\n",
    "# Methods in Dictionary\n",
    "# Method\t     Description\n",
    "sd.copy()      # Returns a copy of the dictionary\n",
    "sd.fromkeys()  # Returns a dictionary with the specified keys and value\n",
    "sd.get()       # Returns the value of the specified key\n",
    "sd.items()     # Returns a list containing a tuple for each key value pair\n",
    "sd.keys()      # Returns a list containing the dictionary's keys\n",
    "sd.pop()       # Removes the element with the specified key\n",
    "sd.popitem()   # Removes the last inserted key-value pair\n",
    "sd.setdefault() # Returns the value of the specified key. If the key does not exist: insert the key, with the specified value\n",
    "sd.update()    # Updates the dictionary with the specified key-value pairs\n",
    "sd.values()    # Returns a list of all the values in the dictionary\n",
    "sd.clear()     # Removes all the elements from the dictionary\n"
   ]
  },
  {
   "cell_type": "code",
   "execution_count": null,
   "metadata": {},
   "outputs": [],
   "source": [
    "## Loop\n",
    "# A for loop is used for iterating over a sequence (that is either \n",
    "# a list, a tuple, a dictionary, a set, or a string). This is less \n",
    "# like the for keyword in other programming languages, and works more \n",
    "# like an iterator method as found in other object-orientated programming \n",
    "# languages.\n",
    "\n",
    "# While Loop   \n",
    "# With the while loop we can execute a set of statements as long as \n",
    "# a condition is true. Example. Print i as long as i is less than 6: \n",
    "# i = 1 while i < ...\n",
    "biscuit_eaten = 0\n",
    "while biscuit_eaten < 6:\n",
    "    print(\"Eat one bischuit\",biscuit_eaten)\n",
    "    biscuit_eaten += 1\n",
    "\n",
    "# for loop\n",
    "#A for loop is used for iterating over a sequence \n",
    "# (that is either a list, a tuple, a dictionary, a set, or a string).\n",
    "\n",
    "# This is less like the for keyword in other programming languages, \n",
    "# and works more like an iterator method as found in other \n",
    "# object-orientated programming languages.\n",
    "\n",
    "# With the for loop we can execute a set of statements, once for \n",
    "# each item in a list, tuple, set etc.\n",
    "fruits = [\"apple\", \"banana\", \"cherry\"]\n",
    "for x in fruits:\n",
    "  print(x)\n",
    "\n",
    "for s in s1:\n",
    "    print(s)\n",
    "\n"
   ]
  },
  {
   "cell_type": "code",
   "execution_count": 6,
   "metadata": {},
   "outputs": [
    {
     "name": "stdout",
     "output_type": "stream",
     "text": [
      "1\n",
      "Branch\n",
      "Age\n",
      "Marks\n",
      "subs\n"
     ]
    }
   ],
   "source": [
    "for d in sd:\n",
    "  print(d)"
   ]
  }
 ],
 "metadata": {
  "kernelspec": {
   "display_name": "Python 3.11.0 64-bit",
   "language": "python",
   "name": "python3"
  },
  "language_info": {
   "codemirror_mode": {
    "name": "ipython",
    "version": 3
   },
   "file_extension": ".py",
   "mimetype": "text/x-python",
   "name": "python",
   "nbconvert_exporter": "python",
   "pygments_lexer": "ipython3",
   "version": "3.11.0"
  },
  "orig_nbformat": 4,
  "vscode": {
   "interpreter": {
    "hash": "52634da84371cba311ea128a5ea7cdc41ff074b781779e754b270ff9f8153cee"
   }
  }
 },
 "nbformat": 4,
 "nbformat_minor": 2
}
