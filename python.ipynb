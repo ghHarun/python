{
 "cells": [
  {
   "cell_type": "code",
   "execution_count": 2,
   "metadata": {},
   "outputs": [
    {
     "name": "stdout",
     "output_type": "stream",
     "text": [
      "28\n"
     ]
    }
   ],
   "source": [
    "# Input Phase\n",
    "num1=int(input('Enter 1st number: '))\n",
    "num2=int(input('Enter 2nd number: '))\n",
    "\n",
    "# Processing Phase\n",
    "result=num1 + num2\n",
    "\n",
    "# Output Phase\n",
    "print(result)"
   ]
  },
  {
   "cell_type": "code",
   "execution_count": null,
   "metadata": {},
   "outputs": [],
   "source": [
    "# We could not able to start variable name with number"
   ]
  },
  {
   "cell_type": "code",
   "execution_count": 5,
   "metadata": {},
   "outputs": [
    {
     "data": {
      "text/plain": [
       "float"
      ]
     },
     "execution_count": 5,
     "metadata": {},
     "output_type": "execute_result"
    }
   ],
   "source": [
    "num = 3\n",
    "name = 'John Smith'\n",
    "weight = 55.66\n",
    "type(num)\n",
    "type(name)\n",
    "type(weight)"
   ]
  },
  {
   "cell_type": "code",
   "execution_count": 6,
   "metadata": {},
   "outputs": [
    {
     "name": "stdout",
     "output_type": "stream",
     "text": [
      "able by \"Jhon\"\n"
     ]
    }
   ],
   "source": [
    "# String methods\n",
    "s='able by \"Jhon\"'\n",
    "print(s)"
   ]
  },
  {
   "cell_type": "code",
   "execution_count": 26,
   "metadata": {},
   "outputs": [
    {
     "data": {
      "text/plain": [
       "True"
      ]
     },
     "execution_count": 26,
     "metadata": {},
     "output_type": "execute_result"
    }
   ],
   "source": [
    "s.capitalize()\n",
    "s.lower()\n",
    "s.upper()\n",
    "s.split()\n",
    "s.split('by')\n",
    "s.replace(\"by\",\"BY\")\n",
    "s.replace('n',\"@\",1)\n",
    "s.swapcase()        # Convert lower into capital and capital into lower\n",
    "s.title()           # Convert 1st character of eache word capital\n",
    "s.count('n')        # Count 'n' in the string\n",
    "s.startswith('Ab')  # Check whether the string start with 'Ab' if true, return 'True' or False\n",
    "s.isupper()         # Whether all characters are uper\n",
    "s.isnumeric()       # Whether all are numeric\n",
    "s.upper().isupper() # We may convert the string into upper and then check whether it is true "
   ]
  },
  {
   "cell_type": "code",
   "execution_count": 35,
   "metadata": {},
   "outputs": [
    {
     "data": {
      "text/plain": [
       "(bool, True)"
      ]
     },
     "execution_count": 35,
     "metadata": {},
     "output_type": "execute_result"
    }
   ],
   "source": [
    "# Type Conversion\n",
    "n = '34'          # Variable 'n' and we preserve '34' as string\n",
    "n = int(n)        # Convert '34' as int\n",
    "n = float(n)      # Convert '34' as float\n",
    "n = complex(n)    # Convert '34' as complex\n",
    "n = str(n)        # Convert integer 34 as string\n",
    "n = bool(\"\")      # Convert bool and if null value the return 'False'\n",
    "type(n),n"
   ]
  },
  {
   "cell_type": "code",
   "execution_count": null,
   "metadata": {},
   "outputs": [],
   "source": [
    "# Creating Storage / Variable\n"
   ]
  },
  {
   "cell_type": "code",
   "execution_count": 38,
   "metadata": {},
   "outputs": [
    {
     "data": {
      "text/plain": [
       "'A'"
      ]
     },
     "execution_count": 38,
     "metadata": {},
     "output_type": "execute_result"
    }
   ],
   "source": [
    "# Binary Representation\n",
    "c='A'\n",
    "c='a'\n",
    "ord(c)\n",
    "\n",
    "# Assci to Character\n",
    "n=65\n",
    "chr(n)"
   ]
  },
  {
   "cell_type": "code",
   "execution_count": null,
   "metadata": {},
   "outputs": [],
   "source": [
    "# String Formatting\n",
    "name = 'John'\n",
    "age = 25\n",
    "weight = 55.6\n",
    "print(\"{0} your age {1}, your weight is {2}\".format(name,age,weight))   # 1st method '{}' it is call place holder\n",
    "\n",
    "print(\"%s your age %d, your weight is %f\" %(name,age,weight))   # 2nd method %' it is call place holder\n",
    "print(\"%s your age %d, your weight is %.2f\" %(name,age,weight))   # 2nd method %' it is call place holder\n",
    "\n",
    "print(f\"{name} your age {age}, your weight is {weight}\")        # This format is much more interesting and easy\n",
    "print(f\"{name} your age {age+4}, your weight is {weight}\")      # We can use operation here as well "
   ]
  },
  {
   "cell_type": "code",
   "execution_count": 47,
   "metadata": {},
   "outputs": [
    {
     "name": "stdout",
     "output_type": "stream",
     "text": [
      "John\n"
     ]
    }
   ],
   "source": [
    "# We can get input from the user as well\n",
    "name=input(f\"Your name is {name}\")\n",
    "print(name)"
   ]
  },
  {
   "cell_type": "code",
   "execution_count": 17,
   "metadata": {},
   "outputs": [
    {
     "data": {
      "text/plain": [
       "9"
      ]
     },
     "execution_count": 17,
     "metadata": {},
     "output_type": "execute_result"
    }
   ],
   "source": [
    "# Operators\n",
    "# Aritmatice Operator\n",
    "2+3     # Addition\n",
    "3-2     # Deduction\n",
    "3*2     # Multiplacation \n",
    "3/2     # Floating point Division\n",
    "3//2    # Intiger point Division\n",
    "3%2     # Remainder\n",
    "3 ** 2  # Power calculation\n"
   ]
  },
  {
   "cell_type": "code",
   "execution_count": 5,
   "metadata": {},
   "outputs": [
    {
     "data": {
      "text/plain": [
       "False"
      ]
     },
     "execution_count": 5,
     "metadata": {},
     "output_type": "execute_result"
    }
   ],
   "source": [
    "# Comparison Operator\n",
    "2 > 3   # 2 > 3 is False\n",
    "2 < 3   # 2 < 3 is True\n",
    "2 == 3  # 2 == 3 is False\n",
    "2 != 3  # 2 !> 3 is True\n",
    "2 >= 2  # 2 >= 3 is True\n",
    "3 <= 2  # 2 <= 2 is False"
   ]
  },
  {
   "cell_type": "code",
   "execution_count": 9,
   "metadata": {},
   "outputs": [
    {
     "data": {
      "text/plain": [
       "True"
      ]
     },
     "execution_count": 9,
     "metadata": {},
     "output_type": "execute_result"
    }
   ],
   "source": [
    "# Logical Operators\n",
    "True and True   # True and True returen True\n",
    "True and False  # True and False return False\n",
    "False and True  # False and True return False\n",
    "False and False # False and False return False\n",
    "\n",
    "True or True    # True or True return True\n",
    "True or False   # True or False return True\n",
    "False or True   # False or True returen True\n",
    "\n",
    "not True        # not True return False\n",
    "not False       # not False return True\n",
    "\n",
    "## for Credit card\n",
    "age=18\n",
    "salary = 40000\n",
    "\n",
    "(age>=18) and (salary >= 40000)"
   ]
  },
  {
   "cell_type": "code",
   "execution_count": null,
   "metadata": {},
   "outputs": [],
   "source": [
    "## Special Opertor\n",
    "\"h\" in \"happy\"  # if 'h' is found in 'happy' then return True\n",
    "\"u\" in \"happy\"  # if 'u' is not found in 'happy' then return False\n",
    "\n",
    "# is Operator\n",
    "2 == 2      # 2 is equelto 2 return True\n",
    "2 == 2.00   # 2 is equelto 2.00 return True, though it's type is different\n",
    "print(2 is 2.00)    # 2 is 2.00 return False, as the type is different\n",
    "print (2 is 2)      # 2 is 2 return True, as type is also same"
   ]
  },
  {
   "cell_type": "code",
   "execution_count": 2,
   "metadata": {},
   "outputs": [
    {
     "data": {
      "text/plain": [
       "4"
      ]
     },
     "execution_count": 2,
     "metadata": {},
     "output_type": "execute_result"
    }
   ],
   "source": [
    "## Assignment Operator / Day - 1, Time - \n",
    "n = 2       # We assign the value of n is 2\n",
    "#n = n + 2   # Now we add 2 with n, then then n will return 4\n",
    "#n += 2      # It also return the value 4 as above, which is the short form of n = n + 2\n",
    "#n -= 2      # When the n value is 2 then deduce 2 and return 0\n",
    "n *= 2      # Return 4\n",
    "n"
   ]
  },
  {
   "cell_type": "code",
   "execution_count": 4,
   "metadata": {},
   "outputs": [
    {
     "data": {
      "text/plain": [
       "['False',\n",
       " 'None',\n",
       " 'True',\n",
       " 'and',\n",
       " 'as',\n",
       " 'assert',\n",
       " 'async',\n",
       " 'await',\n",
       " 'break',\n",
       " 'class',\n",
       " 'continue',\n",
       " 'def',\n",
       " 'del',\n",
       " 'elif',\n",
       " 'else',\n",
       " 'except',\n",
       " 'finally',\n",
       " 'for',\n",
       " 'from',\n",
       " 'global',\n",
       " 'if',\n",
       " 'import',\n",
       " 'in',\n",
       " 'is',\n",
       " 'lambda',\n",
       " 'nonlocal',\n",
       " 'not',\n",
       " 'or',\n",
       " 'pass',\n",
       " 'raise',\n",
       " 'return',\n",
       " 'try',\n",
       " 'while',\n",
       " 'with',\n",
       " 'yield']"
      ]
     },
     "execution_count": 4,
     "metadata": {},
     "output_type": "execute_result"
    }
   ],
   "source": [
    "## To show the list of Keyword, Day-1, Time- 1:26.48\n",
    "import keyword\n",
    "keyword.kwlist  # Every keyword has it own function among them some of the function we already have used"
   ]
  },
  {
   "cell_type": "code",
   "execution_count": 11,
   "metadata": {},
   "outputs": [
    {
     "data": {
      "text/plain": [
       "True"
      ]
     },
     "execution_count": 11,
     "metadata": {},
     "output_type": "execute_result"
    }
   ],
   "source": [
    "## Advance Data Type,   Day-2, Time- 00.01\n",
    "\n",
    "## List\n",
    "studs = [5,1,3,4,5,76,7,8,9,'CSE', True, 5.6]   # List variable, where we can storoe the data efficiently\n",
    "studs           # We can print it directly or use print(studs) as well\n",
    "\n",
    "# We may access this list data, suppose we want to use 1 from the list, then how?\n",
    "# we know that list values have index number which is started from 0, then\n",
    "# if we want to use 5, that means, we would going to use index 0\n",
    "studs[0] \n",
    "# if we want to get 76 then what to do... we need to know the index no. of 76\n",
    "# that is 5, so\n",
    "studs[5]    # Then return 76. If we want to get the last value like 5.6 then\n",
    "            # we need to know the index no. of 5.6. But is difficult when the list\n",
    "            # will be large, so, a shortcut method is there like\n",
    "studs[-1]\n",
    "studs[-2]   # 2nd last value will be returned\n"
   ]
  }
 ],
 "metadata": {
  "kernelspec": {
   "display_name": "Python 3.11.0 64-bit",
   "language": "python",
   "name": "python3"
  },
  "language_info": {
   "codemirror_mode": {
    "name": "ipython",
    "version": 3
   },
   "file_extension": ".py",
   "mimetype": "text/x-python",
   "name": "python",
   "nbconvert_exporter": "python",
   "pygments_lexer": "ipython3",
   "version": "3.11.0"
  },
  "orig_nbformat": 4,
  "vscode": {
   "interpreter": {
    "hash": "52634da84371cba311ea128a5ea7cdc41ff074b781779e754b270ff9f8153cee"
   }
  }
 },
 "nbformat": 4,
 "nbformat_minor": 2
}
