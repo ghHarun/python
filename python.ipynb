{
 "cells": [
  {
   "cell_type": "code",
   "execution_count": 2,
   "metadata": {},
   "outputs": [
    {
     "name": "stdout",
     "output_type": "stream",
     "text": [
      "28\n"
     ]
    }
   ],
   "source": [
    "# Input Phase\n",
    "num1=int(input('Enter 1st number: '))\n",
    "num2=int(input('Enter 2nd number: '))\n",
    "\n",
    "# Processing Phase\n",
    "result=num1 + num2\n",
    "\n",
    "# Output Phase\n",
    "print(result)"
   ]
  },
  {
   "cell_type": "code",
   "execution_count": null,
   "metadata": {},
   "outputs": [],
   "source": [
    "# We could not able to start variable name with number"
   ]
  },
  {
   "cell_type": "code",
   "execution_count": 5,
   "metadata": {},
   "outputs": [
    {
     "data": {
      "text/plain": [
       "float"
      ]
     },
     "execution_count": 5,
     "metadata": {},
     "output_type": "execute_result"
    }
   ],
   "source": [
    "num = 3\n",
    "name = 'John Smith'\n",
    "weight = 55.66\n",
    "type(num)\n",
    "type(name)\n",
    "type(weight)"
   ]
  },
  {
   "cell_type": "code",
   "execution_count": 6,
   "metadata": {},
   "outputs": [
    {
     "name": "stdout",
     "output_type": "stream",
     "text": [
      "able by \"Jhon\"\n"
     ]
    }
   ],
   "source": [
    "# String methods\n",
    "s='able by \"Jhon\"'\n",
    "print(s)"
   ]
  },
  {
   "cell_type": "code",
   "execution_count": 26,
   "metadata": {},
   "outputs": [
    {
     "data": {
      "text/plain": [
       "True"
      ]
     },
     "execution_count": 26,
     "metadata": {},
     "output_type": "execute_result"
    }
   ],
   "source": [
    "s.capitalize()\n",
    "s.lower()\n",
    "s.upper()\n",
    "s.split()\n",
    "s.split('by')\n",
    "s.replace(\"by\",\"BY\")\n",
    "s.replace('n',\"@\",1)\n",
    "s.swapcase()        # Convert lower into capital and capital into lower\n",
    "s.title()           # Convert 1st character of eache word capital\n",
    "s.count('n')        # Count 'n' in the string\n",
    "s.startswith('Ab')  # Check whether the string start with 'Ab' if true, return 'True' or False\n",
    "s.isupper()         # Whether all characters are uper\n",
    "s.isnumeric()       # Whether all are numeric\n",
    "s.upper().isupper() # We may convert the string into upper and then check whether it is true "
   ]
  },
  {
   "cell_type": "code",
   "execution_count": 35,
   "metadata": {},
   "outputs": [
    {
     "data": {
      "text/plain": [
       "(bool, True)"
      ]
     },
     "execution_count": 35,
     "metadata": {},
     "output_type": "execute_result"
    }
   ],
   "source": [
    "# Type Conversion\n",
    "n = '34'          # Variable 'n' and we preserve '34' as string\n",
    "n = int(n)        # Convert '34' as int\n",
    "n = float(n)      # Convert '34' as float\n",
    "n = complex(n)    # Convert '34' as complex\n",
    "n = str(n)        # Convert integer 34 as string\n",
    "n = bool(\"\")      # Convert bool and if null value the return 'False'\n",
    "type(n),n"
   ]
  },
  {
   "cell_type": "code",
   "execution_count": null,
   "metadata": {},
   "outputs": [],
   "source": [
    "# Creating Storage / Variable\n"
   ]
  },
  {
   "cell_type": "code",
   "execution_count": 38,
   "metadata": {},
   "outputs": [
    {
     "data": {
      "text/plain": [
       "'A'"
      ]
     },
     "execution_count": 38,
     "metadata": {},
     "output_type": "execute_result"
    }
   ],
   "source": [
    "# Binary Representation\n",
    "c='A'\n",
    "c='a'\n",
    "ord(c)\n",
    "\n",
    "# Assci to Character\n",
    "n=65\n",
    "chr(n)"
   ]
  },
  {
   "cell_type": "code",
   "execution_count": 45,
   "metadata": {},
   "outputs": [
    {
     "name": "stdout",
     "output_type": "stream",
     "text": [
      "John your age 25, your weight is 55.6\n",
      "John your age 25, your weight is 55.600000\n",
      "John your age 25, your weight is 55.60\n",
      "John your age 25, your weight is 55.6\n",
      "John your age 29, your weight is 55.6\n"
     ]
    }
   ],
   "source": [
    "# String Formatting\n",
    "name = 'John'\n",
    "age = 25\n",
    "weight = 55.6\n",
    "print(\"{0} your age {1}, your weight is {2}\".format(name,age,weight))   # 1st method '{}' it is call place holder\n",
    "\n",
    "print(\"%s your age %d, your weight is %f\" %(name,age,weight))   # 2nd method %' it is call place holder\n",
    "print(\"%s your age %d, your weight is %.2f\" %(name,age,weight))   # 2nd method %' it is call place holder\n",
    "\n",
    "print(f\"{name} your age {age}, your weight is {weight}\")        # This format is much more interesting and easy\n",
    "print(f\"{name} your age {age+4}, your weight is {weight}\")      # We can use operation here as well "
   ]
  },
  {
   "cell_type": "code",
   "execution_count": 47,
   "metadata": {},
   "outputs": [
    {
     "name": "stdout",
     "output_type": "stream",
     "text": [
      "John\n"
     ]
    }
   ],
   "source": [
    "# We can get input from the user as well\n",
    "name=input(f\"Your name is {name}\")\n",
    "print(name)"
   ]
  },
  {
   "cell_type": "code",
   "execution_count": 49,
   "metadata": {},
   "outputs": [
    {
     "data": {
      "text/plain": [
       "1"
      ]
     },
     "execution_count": 49,
     "metadata": {},
     "output_type": "execute_result"
    }
   ],
   "source": [
    "# Operators\n",
    "# Aritmatice Operator\n",
    "2+3     # Addition\n",
    "3-2     # Deduction\n",
    "3*2     # Multiplacation \n",
    "3/2     # Division\n",
    "3//2    # Bubtruction\n",
    "3%2     # Remainder\n"
   ]
  }
 ],
 "metadata": {
  "kernelspec": {
   "display_name": "Python 3.11.0 64-bit",
   "language": "python",
   "name": "python3"
  },
  "language_info": {
   "codemirror_mode": {
    "name": "ipython",
    "version": 3
   },
   "file_extension": ".py",
   "mimetype": "text/x-python",
   "name": "python",
   "nbconvert_exporter": "python",
   "pygments_lexer": "ipython3",
   "version": "3.11.0"
  },
  "orig_nbformat": 4,
  "vscode": {
   "interpreter": {
    "hash": "52634da84371cba311ea128a5ea7cdc41ff074b781779e754b270ff9f8153cee"
   }
  }
 },
 "nbformat": 4,
 "nbformat_minor": 2
}
